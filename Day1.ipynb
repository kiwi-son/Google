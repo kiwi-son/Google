{
  "nbformat": 4,
  "nbformat_minor": 0,
  "metadata": {
    "colab": {
      "provenance": [],
      "authorship_tag": "ABX9TyO0pF0EUB54UgsE6PrilEP4",
      "include_colab_link": true
    },
    "kernelspec": {
      "name": "python3",
      "display_name": "Python 3"
    },
    "language_info": {
      "name": "python"
    }
  },
  "cells": [
    {
      "cell_type": "markdown",
      "metadata": {
        "id": "view-in-github",
        "colab_type": "text"
      },
      "source": [
        "<a href=\"https://colab.research.google.com/github/kiwi-son/Google/blob/main/Day1.ipynb\" target=\"_parent\"><img src=\"https://colab.research.google.com/assets/colab-badge.svg\" alt=\"Open In Colab\"/></a>"
      ]
    },
    {
      "cell_type": "code",
      "execution_count": 1,
      "metadata": {
        "colab": {
          "base_uri": "https://localhost:8080/",
          "height": 400
        },
        "id": "-Fy_4xnP-zsf",
        "outputId": "3992b613-f3ba-4ec2-eb26-e80deb211310"
      },
      "outputs": [
        {
          "output_type": "stream",
          "name": "stdout",
          "text": [
            "Hello world\n",
            "strinbg - 100 - {1, 2, 3} - {'key': 'valeu'}\n",
            "This is jeet\n",
            "<class 'int'>\n",
            "<class 'bool'>\n",
            "<class 'complex'>\n",
            "2.0\n",
            "3.0\n",
            "[12, 3, 5, 'jeet', 1.2]\n",
            "<class 'list'>\n",
            "{1, 2, 'Jeet'}\n",
            "{'key': 1, 'key2': 3}\n",
            "<class 'dict'>\n",
            "<class 'dict_keys'>\n",
            "dict_keys(['key', 'key2'])\n",
            "1 1 1\n",
            "Enter the value1\n",
            "1\n",
            "2\n",
            "8\n",
            "171\n"
          ]
        },
        {
          "output_type": "execute_result",
          "data": {
            "text/plain": [
              "'\\nmv;lnvlnds\\n'"
            ],
            "application/vnd.google.colaboratory.intrinsic+json": {
              "type": "string"
            }
          },
          "metadata": {},
          "execution_count": 1
        }
      ],
      "source": [
        "#printing\n",
        "print(\"Hello world\")\n",
        "print(\"strinbg\", 100, {1,2,3}, {\"key\":\"valeu\"}, sep=\" - \")\n",
        "print(\"This is jeet\")\n",
        "\n",
        "#datatypes\n",
        "print(type(1))\n",
        "print(type(True))\n",
        "a=2+3j\n",
        "print(type(a))\n",
        "print(a.real)\n",
        "print(a.imag)\n",
        "\n",
        "#list\n",
        "l=[12,3,5,\"jeet\", 1.2]\n",
        "print(l)\n",
        "print(type(l))\n",
        "\n",
        "#sets\n",
        "s={1,2,\"Jeet\",1,2}\n",
        "print(s)\n",
        "\n",
        "#dictonary\n",
        "di={\n",
        "    \"key\":1,\n",
        "    \"key2\":3\n",
        "}\n",
        "print(di)\n",
        "ke=di.keys()\n",
        "print(type(di))\n",
        "print(type(ke))\n",
        "print(di.keys())\n",
        "x=y=z=1\n",
        "print(x,y,z)\n",
        "\n",
        "#input\n",
        "\n",
        "v=int(input(\"Enter the value\"))\n",
        "print(v)\n",
        "\n",
        "#literals\n",
        "\n",
        "#binary\n",
        "a=0b10\n",
        "print(a)\n",
        "#octal\n",
        "o=0o10\n",
        "print(o)\n",
        "#hexadecimal\n",
        "j=0xab\n",
        "\n",
        "print(j)\n",
        "\n",
        "'''\n",
        "mv;lnvlnds\n",
        "'''"
      ]
    }
  ]
}